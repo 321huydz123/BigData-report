{
 "cells": [
  {
   "cell_type": "code",
   "execution_count": 2,
   "metadata": {},
   "outputs": [],
   "source": [
    "import sys\n",
    "import re\n",
    "\n",
    "import pandas as pd\n",
    "import numpy as np\n",
    "# from scipy import spatial\n",
    "# from datetime import datetime, timedelta\n",
    "# from itertools import tee\n",
    "# from operator import itemgetter\n",
    "# from collections import defaultdict\n",
    "# from math import log\n",
    "\n",
    "\n",
    "import matplotlib.pyplot as plt\n",
    "import seaborn as sns\n",
    "# from wordcloud import WordCloud\n",
    "\n",
    "# from pyvi import ViTokenizer"
   ]
  },
  {
   "cell_type": "code",
   "execution_count": 3,
   "metadata": {},
   "outputs": [
    {
     "data": {
      "text/plain": [
       "'2.2.0'"
      ]
     },
     "execution_count": 3,
     "metadata": {},
     "output_type": "execute_result"
    }
   ],
   "source": [
    "import pandas as pd\n",
    " \n",
    "pd.__version__"
   ]
  },
  {
   "cell_type": "code",
   "execution_count": null,
   "metadata": {},
   "outputs": [],
   "source": [
    "# !{sys.executable} -m pip install  -r requirements.txt"
   ]
  },
  {
   "cell_type": "markdown",
   "metadata": {},
   "source": [
    "# Read data and join data "
   ]
  },
  {
   "cell_type": "code",
   "execution_count": 8,
   "metadata": {},
   "outputs": [],
   "source": [
    "# users = pd.read_csv(\"dataset/users.csv\")\n",
    "# reading = pd.read_csv(\"dataset/reading.csv\")\n",
    "# articles = pd.read_csv(\"dataset/articles.csv\")\n",
    "store = pd.read_csv(\"dataset/SuperStore.csv\")\n",
    "customers = pd.read_csv(\"dataset/Customers.csv\")    "
   ]
  },
  {
   "cell_type": "code",
   "execution_count": 4,
   "metadata": {},
   "outputs": [
    {
     "data": {
      "text/plain": [
       "(1048575, 1048575)"
      ]
     },
     "execution_count": 4,
     "metadata": {},
     "output_type": "execute_result"
    }
   ],
   "source": [
    "# len(reading), len(articles), len(users)\n",
    "len(store),len(customers)"
   ]
  },
  {
   "cell_type": "code",
   "execution_count": null,
   "metadata": {},
   "outputs": [],
   "source": [
    "# data = pd.merge(reading, articles, on=['article_id'])\n",
    "# data = pd.merge(data, users, on = ['user_id'])"
   ]
  },
  {
   "cell_type": "code",
   "execution_count": 4,
   "metadata": {},
   "outputs": [],
   "source": [
    "print(customers.to_string())"
   ]
  },
  {
   "cell_type": "markdown",
   "metadata": {},
   "source": [
    "# Removing NULL Variables"
   ]
  },
  {
   "cell_type": "code",
   "execution_count": null,
   "metadata": {},
   "outputs": [],
   "source": [
    "store = pd.read_csv(\"dataset/SuperStore.csv\")\n",
    "new_store = store.dropna(inplace=True)\n",
    "print(store.to_string())"
   ]
  },
  {
   "cell_type": "code",
   "execution_count": null,
   "metadata": {},
   "outputs": [],
   "source": [
    "store = pd.read_csv(\"dataset/SuperStore.csv\")\n",
    "new_store = store.dropna(inplace=True)\n",
    "print(store.to_string())"
   ]
  },
  {
   "cell_type": "code",
   "execution_count": 13,
   "metadata": {},
   "outputs": [
    {
     "name": "stdout",
     "output_type": "stream",
     "text": [
      "0          False\n",
      "1          False\n",
      "2          False\n",
      "3          False\n",
      "4          False\n",
      "           ...  \n",
      "1048570    False\n",
      "1048571    False\n",
      "1048572    False\n",
      "1048573    False\n",
      "1048574    False\n",
      "Length: 1048575, dtype: bool\n"
     ]
    }
   ],
   "source": [
    "store = pd.read_csv(\"dataset/SuperStore.csv\")\n",
    "print(store.duplicated())"
   ]
  },
  {
   "cell_type": "markdown",
   "metadata": {},
   "source": [
    "Customers"
   ]
  },
  {
   "cell_type": "code",
   "execution_count": null,
   "metadata": {},
   "outputs": [
    {
     "name": "stdout",
     "output_type": "stream",
     "text": [
      "0          False\n",
      "1          False\n",
      "2          False\n",
      "3          False\n",
      "4          False\n",
      "           ...  \n",
      "1048570    False\n",
      "1048571    False\n",
      "1048572    False\n",
      "1048573    False\n",
      "1048574    False\n",
      "Length: 1048575, dtype: bool\n"
     ]
    }
   ],
   "source": [
    "new_customers = customers.dropna()\n",
    "print(customers.to_string())\n",
    "print(customers.duplicated())"
   ]
  },
  {
   "cell_type": "code",
   "execution_count": 6,
   "metadata": {},
   "outputs": [
    {
     "data": {
      "text/html": [
       "<div>\n",
       "<style scoped>\n",
       "    .dataframe tbody tr th:only-of-type {\n",
       "        vertical-align: middle;\n",
       "    }\n",
       "\n",
       "    .dataframe tbody tr th {\n",
       "        vertical-align: top;\n",
       "    }\n",
       "\n",
       "    .dataframe thead th {\n",
       "        text-align: right;\n",
       "    }\n",
       "</style>\n",
       "<table border=\"1\" class=\"dataframe\">\n",
       "  <thead>\n",
       "    <tr style=\"text-align: right;\">\n",
       "      <th></th>\n",
       "      <th>Region</th>\n",
       "      <th>Country</th>\n",
       "      <th>Item Type</th>\n",
       "      <th>Sales Channel</th>\n",
       "      <th>Order Priority</th>\n",
       "      <th>Order Date</th>\n",
       "      <th>Order ID</th>\n",
       "      <th>Ship Date</th>\n",
       "      <th>Units Sold</th>\n",
       "      <th>Unit Price</th>\n",
       "      <th>Unit Cost</th>\n",
       "      <th>Total Revenue</th>\n",
       "      <th>Total Cost</th>\n",
       "      <th>Total Profit</th>\n",
       "    </tr>\n",
       "  </thead>\n",
       "  <tbody>\n",
       "    <tr>\n",
       "      <th>0</th>\n",
       "      <td>Australia and Oceania</td>\n",
       "      <td>Australia</td>\n",
       "      <td>Meat</td>\n",
       "      <td>Online</td>\n",
       "      <td>C</td>\n",
       "      <td>4/4/2011</td>\n",
       "      <td>451691138</td>\n",
       "      <td>5/23/2011</td>\n",
       "      <td>4300</td>\n",
       "      <td>421.89</td>\n",
       "      <td>364.69</td>\n",
       "      <td>1814127.00</td>\n",
       "      <td>1568167.00</td>\n",
       "      <td>245960.00</td>\n",
       "    </tr>\n",
       "    <tr>\n",
       "      <th>1</th>\n",
       "      <td>Asia</td>\n",
       "      <td>Tajikistan</td>\n",
       "      <td>Personal Care</td>\n",
       "      <td>Online</td>\n",
       "      <td>L</td>\n",
       "      <td>7/12/2018</td>\n",
       "      <td>144177377</td>\n",
       "      <td>8/1/2018</td>\n",
       "      <td>4145</td>\n",
       "      <td>81.73</td>\n",
       "      <td>56.67</td>\n",
       "      <td>338770.85</td>\n",
       "      <td>234897.15</td>\n",
       "      <td>103873.70</td>\n",
       "    </tr>\n",
       "    <tr>\n",
       "      <th>2</th>\n",
       "      <td>Sub-Saharan Africa</td>\n",
       "      <td>Mozambique</td>\n",
       "      <td>Cosmetics</td>\n",
       "      <td>Online</td>\n",
       "      <td>H</td>\n",
       "      <td>7/6/2011</td>\n",
       "      <td>982716166</td>\n",
       "      <td>7/17/2011</td>\n",
       "      <td>6407</td>\n",
       "      <td>437.20</td>\n",
       "      <td>263.33</td>\n",
       "      <td>2801140.40</td>\n",
       "      <td>1687155.31</td>\n",
       "      <td>1113985.09</td>\n",
       "    </tr>\n",
       "    <tr>\n",
       "      <th>3</th>\n",
       "      <td>Central America and the Caribbean</td>\n",
       "      <td>Panama</td>\n",
       "      <td>Personal Care</td>\n",
       "      <td>Offline</td>\n",
       "      <td>L</td>\n",
       "      <td>5/1/2011</td>\n",
       "      <td>784543836</td>\n",
       "      <td>5/11/2011</td>\n",
       "      <td>2810</td>\n",
       "      <td>81.73</td>\n",
       "      <td>56.67</td>\n",
       "      <td>229661.30</td>\n",
       "      <td>159242.70</td>\n",
       "      <td>70418.60</td>\n",
       "    </tr>\n",
       "    <tr>\n",
       "      <th>4</th>\n",
       "      <td>North America</td>\n",
       "      <td>Canada</td>\n",
       "      <td>Fruits</td>\n",
       "      <td>Online</td>\n",
       "      <td>H</td>\n",
       "      <td>11/15/2013</td>\n",
       "      <td>137209212</td>\n",
       "      <td>12/29/2013</td>\n",
       "      <td>2110</td>\n",
       "      <td>9.33</td>\n",
       "      <td>6.92</td>\n",
       "      <td>19686.30</td>\n",
       "      <td>14601.20</td>\n",
       "      <td>5085.10</td>\n",
       "    </tr>\n",
       "  </tbody>\n",
       "</table>\n",
       "</div>"
      ],
      "text/plain": [
       "                              Region     Country      Item Type Sales Channel  \\\n",
       "0              Australia and Oceania   Australia           Meat        Online   \n",
       "1                               Asia  Tajikistan  Personal Care        Online   \n",
       "2                 Sub-Saharan Africa  Mozambique      Cosmetics        Online   \n",
       "3  Central America and the Caribbean      Panama  Personal Care       Offline   \n",
       "4                      North America      Canada         Fruits        Online   \n",
       "\n",
       "  Order Priority  Order Date   Order ID   Ship Date  Units Sold  Unit Price  \\\n",
       "0              C    4/4/2011  451691138   5/23/2011        4300      421.89   \n",
       "1              L   7/12/2018  144177377    8/1/2018        4145       81.73   \n",
       "2              H    7/6/2011  982716166   7/17/2011        6407      437.20   \n",
       "3              L    5/1/2011  784543836   5/11/2011        2810       81.73   \n",
       "4              H  11/15/2013  137209212  12/29/2013        2110        9.33   \n",
       "\n",
       "   Unit Cost  Total Revenue  Total Cost  Total Profit  \n",
       "0     364.69     1814127.00  1568167.00     245960.00  \n",
       "1      56.67      338770.85   234897.15     103873.70  \n",
       "2     263.33     2801140.40  1687155.31    1113985.09  \n",
       "3      56.67      229661.30   159242.70      70418.60  \n",
       "4       6.92       19686.30    14601.20       5085.10  "
      ]
     },
     "execution_count": 6,
     "metadata": {},
     "output_type": "execute_result"
    }
   ],
   "source": [
    "store.head()"
   ]
  },
  {
   "cell_type": "markdown",
   "metadata": {},
   "source": [
    "# Data Exploration"
   ]
  },
  {
   "cell_type": "code",
   "execution_count": 3,
   "metadata": {},
   "outputs": [],
   "source": [
    "def group_count_and_sort(df, fields= None, sort_fields = None, count_fieild = None, ascending=False):\n",
    "    new_df = df.groupby(fields).count()\\\n",
    "                .sort_values(sort_fields, ascending=ascending)[count_fieild]\\\n",
    "                .reset_index()\n",
    "    new_df.rename(columns = {count_fieild:'count'}, inplace = True)\n",
    "    return new_df\n",
    "\n",
    "def draw_bar(x, y, xlabel, ylabel, title= None, rotation = 0, figsize= (12,4), fontsize= 20):\n",
    "    plt.figure(figsize = figsize)\n",
    "    plt.xticks(rotation = rotation)\n",
    "    plt.ticklabel_format(style='sci', scilimits=(0,3), useMathText= True)\n",
    "    plt.bar(x =x, height= y)\n",
    "    plt.xlabel(xlabel, fontsize= fontsize)\n",
    "    plt.ylabel(ylabel, fontsize= fontsize)\n",
    "    plt.title(title)\n",
    "    plt.savefig('images/'+title + \".pdf\")"
   ]
  },
  {
   "cell_type": "markdown",
   "metadata": {},
   "source": [
    "## The number of views by TotalProfit and Customer"
   ]
  },
  {
   "cell_type": "markdown",
   "metadata": {},
   "source": [
    "### The number of views by Order Priority"
   ]
  },
  {
   "cell_type": "code",
   "execution_count": 14,
   "metadata": {},
   "outputs": [],
   "source": [
    "OP_count = group_count_and_sort(store, fields='Order Priority', sort_fields='Order ID', count_fieild= 'Order ID')"
   ]
  },
  {
   "cell_type": "code",
   "execution_count": 15,
   "metadata": {},
   "outputs": [
    {
     "data": {
      "text/html": [
       "<div>\n",
       "<style scoped>\n",
       "    .dataframe tbody tr th:only-of-type {\n",
       "        vertical-align: middle;\n",
       "    }\n",
       "\n",
       "    .dataframe tbody tr th {\n",
       "        vertical-align: top;\n",
       "    }\n",
       "\n",
       "    .dataframe thead th {\n",
       "        text-align: right;\n",
       "    }\n",
       "</style>\n",
       "<table border=\"1\" class=\"dataframe\">\n",
       "  <thead>\n",
       "    <tr style=\"text-align: right;\">\n",
       "      <th></th>\n",
       "      <th>Order Priority</th>\n",
       "      <th>count</th>\n",
       "    </tr>\n",
       "  </thead>\n",
       "  <tbody>\n",
       "    <tr>\n",
       "      <th>0</th>\n",
       "      <td>C</td>\n",
       "      <td>262260</td>\n",
       "    </tr>\n",
       "    <tr>\n",
       "      <th>1</th>\n",
       "      <td>H</td>\n",
       "      <td>262213</td>\n",
       "    </tr>\n",
       "    <tr>\n",
       "      <th>2</th>\n",
       "      <td>M</td>\n",
       "      <td>262070</td>\n",
       "    </tr>\n",
       "    <tr>\n",
       "      <th>3</th>\n",
       "      <td>L</td>\n",
       "      <td>262032</td>\n",
       "    </tr>\n",
       "  </tbody>\n",
       "</table>\n",
       "</div>"
      ],
      "text/plain": [
       "  Order Priority   count\n",
       "0              C  262260\n",
       "1              H  262213\n",
       "2              M  262070\n",
       "3              L  262032"
      ]
     },
     "execution_count": 15,
     "metadata": {},
     "output_type": "execute_result"
    }
   ],
   "source": [
    "OP_count.head()"
   ]
  },
  {
   "cell_type": "code",
   "execution_count": 8,
   "metadata": {},
   "outputs": [
    {
     "name": "stdout",
     "output_type": "stream",
     "text": [
      "  Order Priority  Total Profit\n",
      "0              C  1.028532e+11\n",
      "1              H  1.029759e+11\n",
      "2              L  1.029160e+11\n",
      "3              M  1.032360e+11\n"
     ]
    }
   ],
   "source": [
    "import pandas as pd\n",
    "\n",
    "# Giả sử df là DataFrame chứa dữ liệu đơn hàng\n",
    "# df có các cột: Order, TotalProfit\n",
    "\n",
    "# Tính tổng cộng lợi nhuận của mỗi đơn hàng\n",
    "total_profit_per_orderP = store.groupby('Order Priority')['Total Profit'].sum().reset_index()\n",
    "\n",
    "# In ra kết quả\n",
    "print(total_profit_per_orderP)\n"
   ]
  },
  {
   "cell_type": "code",
   "execution_count": 12,
   "metadata": {},
   "outputs": [],
   "source": [
    "sns.set(font_scale=1.5) "
   ]
  },
  {
   "cell_type": "code",
   "execution_count": null,
   "metadata": {},
   "outputs": [],
   "source": [
    "draw_bar(x = OP_count['Order Priority'], y = OP_count['count'], xlabel= 'Order Priority', ylabel = 'Number of views', title=\"Number of views by OP\", figsize= (12,6))\n",
    "# total_profit_per_customer = df.groupby('Emp ID')['TotalProfit'].sum().reset_index()\n",
    "\n",
    "# plt.figure(figsize=(12, 6))\n",
    "# sns.scatterplot(x='TotalProfit', y='CustomerSatisfaction', data=store)\n",
    "# plt.xlabel('Tổng cộng lợi nhuận')\n",
    "# plt.ylabel('Mức độ hài lòng của khách hàng')\n",
    "# plt.title('Mối quan hệ giữa Tổng cộng lợi nhuận và Mức độ hài lòng của khách hàng')\n",
    "# plt.show()"
   ]
  },
  {
   "cell_type": "code",
   "execution_count": 71,
   "metadata": {},
   "outputs": [],
   "source": [
    "#g = sns.catplot(data=age_count, x=\"age\", y=\"count\", kind=\"bar\")"
   ]
  },
  {
   "cell_type": "markdown",
   "metadata": {},
   "source": [
    "## Moi quan he giua Order Priority va Item type"
   ]
  },
  {
   "cell_type": "code",
   "execution_count": null,
   "metadata": {},
   "outputs": [],
   "source": [
    "plt.figure(figsize=(12, 6))\n",
    "sns.countplot(x='Order Priority', hue='Item Type', data=store)\n",
    "plt.title('Mối quan hệ giữa OrderPriority và Item')\n",
    "plt.show()"
   ]
  },
  {
   "cell_type": "markdown",
   "metadata": {},
   "source": [
    "## Product in each Region"
   ]
  },
  {
   "cell_type": "markdown",
   "metadata": {},
   "source": [
    "Product in Asia"
   ]
  },
  {
   "cell_type": "code",
   "execution_count": 9,
   "metadata": {},
   "outputs": [],
   "source": [
    "store_asia = store[store['Region'] == 'Asia']"
   ]
  },
  {
   "cell_type": "code",
   "execution_count": 7,
   "metadata": {},
   "outputs": [
    {
     "name": "stdout",
     "output_type": "stream",
     "text": [
      "Order Priority\n",
      "C    38408\n",
      "L    38348\n",
      "H    38337\n",
      "M    38018\n",
      "Name: count, dtype: int64\n"
     ]
    }
   ],
   "source": [
    "# Đếm số lượng đơn hàng theo Order Priority\n",
    "order_priority_counts = store_asia['Order Priority'].value_counts()\n",
    "\n",
    "# In ra kết quả\n",
    "print(order_priority_counts)"
   ]
  },
  {
   "cell_type": "code",
   "execution_count": 6,
   "metadata": {},
   "outputs": [
    {
     "name": "stdout",
     "output_type": "stream",
     "text": [
      "  Order Priority  Total Profit\n",
      "0              C  1.505867e+10\n",
      "1              H  1.508010e+10\n",
      "2              L  1.514804e+10\n",
      "3              M  1.486481e+10\n"
     ]
    }
   ],
   "source": [
    "# Tính tổng cộng lợi nhuận theo Order Priority\n",
    "total_profit_by_priority = store_asia.groupby('Order Priority')['Total Profit'].sum().reset_index()\n",
    "# In ra kết quả\n",
    "print(total_profit_by_priority) "
   ]
  },
  {
   "cell_type": "code",
   "execution_count": null,
   "metadata": {},
   "outputs": [],
   "source": [
    "plt.figure(figsize=(10, 6))\n",
    "sns.countplot(x='Order Priority', data=store_asia)\n",
    "plt.title('Phân phối Sự ưu tiên Đơn hàng tại khu vực Asia')\n",
    "plt.show()"
   ]
  },
  {
   "cell_type": "code",
   "execution_count": null,
   "metadata": {},
   "outputs": [],
   "source": [
    "# Tạo boxplot để thấy phân phối lợi nhuận tại khu vực Asia dựa trên loại sản phẩm\n",
    "plt.figure(figsize=(14, 6))\n",
    "sns.boxplot(x='Item Type', y='Total Profit', data=store_asia)\n",
    "plt.title('Phân phối lợi nhuận tại khu vực Asia dựa trên loại sản phẩm')\n",
    "plt.show()"
   ]
  },
  {
   "cell_type": "markdown",
   "metadata": {},
   "source": [
    "Product in Europe"
   ]
  },
  {
   "cell_type": "code",
   "execution_count": 11,
   "metadata": {},
   "outputs": [],
   "source": [
    "store_eu = store[store['Region'] == 'Europe']"
   ]
  },
  {
   "cell_type": "code",
   "execution_count": 9,
   "metadata": {},
   "outputs": [
    {
     "name": "stdout",
     "output_type": "stream",
     "text": [
      "Order Priority\n",
      "H    68094\n",
      "L    67962\n",
      "C    67949\n",
      "M    67935\n",
      "Name: count, dtype: int64\n"
     ]
    }
   ],
   "source": [
    "# Đếm số lượng đơn hàng theo Order Priority\n",
    "order_priority_counts_eu = store_eu['Order Priority'].value_counts()\n",
    "\n",
    "# In ra kết quả\n",
    "print(order_priority_counts_eu)"
   ]
  },
  {
   "cell_type": "code",
   "execution_count": null,
   "metadata": {},
   "outputs": [],
   "source": [
    "# Tạo boxplot để thấy phân phối lợi nhuận tại khu vực EU dựa trên loại sản phẩm\n",
    "plt.figure(figsize=(14, 6))\n",
    "sns.boxplot(x='Item Type', y='Total Profit', data=store_eu)\n",
    "plt.title('Phân phối lợi nhuận tại khu vực EU dựa trên loại sản phẩm')\n",
    "plt.show()"
   ]
  },
  {
   "cell_type": "markdown",
   "metadata": {},
   "source": [
    "Product in Africa"
   ]
  },
  {
   "cell_type": "code",
   "execution_count": 3,
   "metadata": {},
   "outputs": [],
   "source": [
    "store_af = store[store['Region'] == 'Sub-Saharan Africa']\n",
    "store_af1 = store[store['Region'] == 'Middle East and North Africa']\n",
    "new_storeaf = pd.concat([store_af, store_af1], axis=0)"
   ]
  },
  {
   "cell_type": "code",
   "execution_count": 4,
   "metadata": {},
   "outputs": [
    {
     "name": "stdout",
     "output_type": "stream",
     "text": [
      "                               Region                           Country  \\\n",
      "2                  Sub-Saharan Africa                        Mozambique   \n",
      "11                 Sub-Saharan Africa                        Madagascar   \n",
      "14                 Sub-Saharan Africa                           Eritrea   \n",
      "15                 Sub-Saharan Africa                          Botswana   \n",
      "22                 Sub-Saharan Africa  Democratic Republic of the Congo   \n",
      "...                               ...                               ...   \n",
      "1048558  Middle East and North Africa                             Syria   \n",
      "1048560  Middle East and North Africa                           Bahrain   \n",
      "1048564  Middle East and North Africa                           Morocco   \n",
      "1048570  Middle East and North Africa                           Lebanon   \n",
      "1048571  Middle East and North Africa                             Egypt   \n",
      "\n",
      "               Item Type Sales Channel Order Priority Order Date   Order ID  \\\n",
      "2              Cosmetics        Online              H   7/6/2011  982716166   \n",
      "11                Fruits        Online              L  6/17/2014  349049222   \n",
      "14                  Meat       Offline              H  11/9/2012  894116580   \n",
      "15                Cereal        Online              M  2/11/2017  643594396   \n",
      "22                Fruits        Online              H   3/8/2013  604410541   \n",
      "...                  ...           ...            ...        ...        ...   \n",
      "1048558           Cereal       Offline              H  6/19/2010  780861270   \n",
      "1048560       Vegetables        Online              L   4/4/2011  670010077   \n",
      "1048564  Office Supplies       Offline              H  5/24/2010  333555495   \n",
      "1048570           Fruits        Online              C  2/28/2017  466602504   \n",
      "1048571           Fruits       Offline              C  5/23/2019  447177731   \n",
      "\n",
      "          Ship Date  Units Sold  Unit Price  Unit Cost  Total Revenue  \\\n",
      "2         7/17/2011        6407      437.20     263.33     2801140.40   \n",
      "11        7/10/2014         276        9.33       6.92        2575.08   \n",
      "14       12/13/2012        7820      421.89     364.69     3299179.80   \n",
      "15        2/24/2017        2739      205.70     117.11      563412.30   \n",
      "22        3/25/2013        7365        9.33       6.92       68715.45   \n",
      "...             ...         ...         ...        ...            ...   \n",
      "1048558   7/11/2010        3057      205.70     117.11      628824.90   \n",
      "1048560   4/30/2011        9726      154.06      90.93     1498387.56   \n",
      "1048564   6/18/2010        5338      651.21     524.96     3476158.98   \n",
      "1048570   4/15/2017        6905        9.33       6.92       64423.65   \n",
      "1048571   6/25/2019        8683        9.33       6.92       81012.39   \n",
      "\n",
      "         Total Cost  Total Profit  \n",
      "2        1687155.31    1113985.09  \n",
      "11          1909.92        665.16  \n",
      "14       2851875.80     447304.00  \n",
      "15        320764.29     242648.01  \n",
      "22         50965.80      17749.65  \n",
      "...             ...           ...  \n",
      "1048558   358005.27     270819.63  \n",
      "1048560   884385.18     614002.38  \n",
      "1048564  2802236.48     673922.50  \n",
      "1048570    47782.60      16641.05  \n",
      "1048571    60086.36      20926.03  \n",
      "\n",
      "[402506 rows x 14 columns]\n"
     ]
    }
   ],
   "source": [
    "print(new_storeaf)"
   ]
  },
  {
   "cell_type": "code",
   "execution_count": 5,
   "metadata": {},
   "outputs": [
    {
     "name": "stdout",
     "output_type": "stream",
     "text": [
      "Order Priority\n",
      "M    100746\n",
      "C    100652\n",
      "L    100560\n",
      "H    100548\n",
      "Name: count, dtype: int64\n"
     ]
    }
   ],
   "source": [
    "# Đếm số lượng đơn hàng theo Order Priority\n",
    "order_priority_counts_af = new_storeaf['Order Priority'].value_counts()\n",
    "\n",
    "# In ra kết quả\n",
    "print(order_priority_counts_af)"
   ]
  },
  {
   "cell_type": "code",
   "execution_count": null,
   "metadata": {},
   "outputs": [],
   "source": [
    "# Tạo boxplot để thấy phân phối lợi nhuận tại khu vực Africa dựa trên loại sản phẩm\n",
    "plt.figure(figsize=(14, 6))\n",
    "sns.boxplot(x='Item Type', y='Total Profit', data=new_storeaf)\n",
    "plt.title('Phân phối lợi nhuận tại khu vực Africa dựa trên loại sản phẩm')\n",
    "plt.show()"
   ]
  },
  {
   "cell_type": "markdown",
   "metadata": {},
   "source": [
    "Product in America"
   ]
  },
  {
   "cell_type": "code",
   "execution_count": 4,
   "metadata": {},
   "outputs": [],
   "source": [
    "store_am = store[store['Region'] == 'North America']\n",
    "store_am1 = store[store['Region'] == 'Central America and the Caribbean']\n",
    "new_stoream = pd.concat([store_am, store_am1], axis=0)"
   ]
  },
  {
   "cell_type": "code",
   "execution_count": 5,
   "metadata": {},
   "outputs": [
    {
     "name": "stdout",
     "output_type": "stream",
     "text": [
      "                                    Region                   Country  \\\n",
      "4                            North America                    Canada   \n",
      "172                          North America                    Canada   \n",
      "262                          North America                    Canada   \n",
      "281                          North America  United States of America   \n",
      "287                          North America                 Greenland   \n",
      "...                                    ...                       ...   \n",
      "1048493  Central America and the Caribbean                 Guatemala   \n",
      "1048499  Central America and the Caribbean                  Barbados   \n",
      "1048546  Central America and the Caribbean                  Honduras   \n",
      "1048559  Central America and the Caribbean                     Haiti   \n",
      "1048574  Central America and the Caribbean                   Grenada   \n",
      "\n",
      "               Item Type Sales Channel Order Priority  Order Date   Order ID  \\\n",
      "4                 Fruits        Online              H  11/15/2013  137209212   \n",
      "172            Cosmetics        Online              C  12/17/2018  572010314   \n",
      "262                 Meat        Online              C   2/10/2012  952780139   \n",
      "281                 Meat        Online              C   1/10/2017  575620782   \n",
      "287      Office Supplies        Online              C    5/9/2018  704355657   \n",
      "...                  ...           ...            ...         ...        ...   \n",
      "1048493        Baby Food       Offline              L   11/5/2014  748306977   \n",
      "1048499        Beverages        Online              C    6/3/2017  448465192   \n",
      "1048546        Household       Offline              M   3/28/2015  224343669   \n",
      "1048559             Meat        Online              H    7/7/2012  638005101   \n",
      "1048574          Clothes        Online              L  11/20/2014  149593722   \n",
      "\n",
      "          Ship Date  Units Sold  Unit Price  Unit Cost  Total Revenue  \\\n",
      "4        12/29/2013        2110        9.33       6.92       19686.30   \n",
      "172       1/21/2019        9418      437.20     263.33     4117549.60   \n",
      "262       3/27/2012        7671      421.89     364.69     3236318.19   \n",
      "281       2/19/2017        7836      421.89     364.69     3305930.04   \n",
      "287       6/19/2018        3346      651.21     524.96     2178948.66   \n",
      "...             ...         ...         ...        ...            ...   \n",
      "1048493  11/29/2014        9518      255.28     159.42     2429755.04   \n",
      "1048499   6/18/2017        9671       47.45      31.79      458888.95   \n",
      "1048546    4/4/2015        7132      668.27     502.54     4766101.64   \n",
      "1048559   7/16/2012        8742      421.89     364.69     3688162.38   \n",
      "1048574    1/6/2015        6962      109.28      35.84      760807.36   \n",
      "\n",
      "         Total Cost  Total Profit  \n",
      "4          14601.20       5085.10  \n",
      "172      2480041.94    1637507.66  \n",
      "262      2797536.99     438781.20  \n",
      "281      2857710.84     448219.20  \n",
      "287      1756516.16     422432.50  \n",
      "...             ...           ...  \n",
      "1048493  1517359.56     912395.48  \n",
      "1048499   307441.09     151447.86  \n",
      "1048546  3584115.28    1181986.36  \n",
      "1048559  3188119.98     500042.40  \n",
      "1048574   249518.08     511289.28  \n",
      "\n",
      "[136106 rows x 14 columns]\n"
     ]
    }
   ],
   "source": [
    "print(new_stoream)"
   ]
  },
  {
   "cell_type": "code",
   "execution_count": 7,
   "metadata": {},
   "outputs": [
    {
     "name": "stdout",
     "output_type": "stream",
     "text": [
      "Order Priority\n",
      "M    34140\n",
      "C    34128\n",
      "L    33965\n",
      "H    33873\n",
      "Name: count, dtype: int64\n"
     ]
    }
   ],
   "source": [
    "# Đếm số lượng đơn hàng theo Order Priority\n",
    "order_priority_counts_am = new_stoream['Order Priority'].value_counts()\n",
    "\n",
    "# In ra kết quả\n",
    "print(order_priority_counts_am)"
   ]
  },
  {
   "cell_type": "code",
   "execution_count": null,
   "metadata": {},
   "outputs": [],
   "source": [
    "# Tạo boxplot để thấy phân phối lợi nhuận tại khu vực Ameica dựa trên loại sản phẩm\n",
    "plt.figure(figsize=(14, 6))\n",
    "sns.boxplot(x='Item Type', y='Total Profit', data=new_stoream)\n",
    "plt.title('Phân phối lợi nhuận tại khu vực America dựa trên loại sản phẩm')\n",
    "plt.show()"
   ]
  },
  {
   "cell_type": "markdown",
   "metadata": {},
   "source": [
    "Product in Oceania"
   ]
  },
  {
   "cell_type": "code",
   "execution_count": 9,
   "metadata": {},
   "outputs": [],
   "source": [
    "store_au = store[store['Region'] == 'Australia and Oceania']"
   ]
  },
  {
   "cell_type": "code",
   "execution_count": 10,
   "metadata": {},
   "outputs": [
    {
     "name": "stdout",
     "output_type": "stream",
     "text": [
      "                        Region                         Country  \\\n",
      "0        Australia and Oceania                       Australia   \n",
      "7        Australia and Oceania                       Australia   \n",
      "10       Australia and Oceania                Papua New Guinea   \n",
      "16       Australia and Oceania  Federated States of Micronesia   \n",
      "19       Australia and Oceania  Federated States of Micronesia   \n",
      "...                        ...                             ...   \n",
      "1048555  Australia and Oceania                Marshall Islands   \n",
      "1048561  Australia and Oceania                           Nauru   \n",
      "1048563  Australia and Oceania                        Kiribati   \n",
      "1048566  Australia and Oceania  Federated States of Micronesia   \n",
      "1048573  Australia and Oceania                      East Timor   \n",
      "\n",
      "               Item Type Sales Channel Order Priority  Order Date   Order ID  \\\n",
      "0                   Meat        Online              C    4/4/2011  451691138   \n",
      "7              Cosmetics       Offline              L   4/30/2019  180407369   \n",
      "10             Beverages        Online              H   8/28/2013  682902705   \n",
      "16             Household       Offline              C   3/25/2017  778870856   \n",
      "19                Snacks       Offline              H    8/6/2015  417167890   \n",
      "...                  ...           ...            ...         ...        ...   \n",
      "1048555           Fruits       Offline              C    1/5/2013  447170865   \n",
      "1048561             Meat        Online              C  10/11/2016  578487527   \n",
      "1048563  Office Supplies       Offline              L    7/8/2010  532867658   \n",
      "1048566        Baby Food       Offline              C    7/6/2016  846233355   \n",
      "1048573        Cosmetics        Online              H   10/9/2018  158155763   \n",
      "\n",
      "          Ship Date  Units Sold  Unit Price  Unit Cost  Total Revenue  \\\n",
      "0         5/23/2011        4300      421.89     364.69     1814127.00   \n",
      "7         5/25/2019        5404      437.20     263.33     2362628.80   \n",
      "10        9/18/2013        4941       47.45      31.79      234450.45   \n",
      "16         5/3/2017        4049      668.27     502.54     2705825.23   \n",
      "19         8/8/2015        8104      152.58      97.44     1236508.32   \n",
      "...             ...         ...         ...        ...            ...   \n",
      "1048555    1/6/2013        6651        9.33       6.92       62053.83   \n",
      "1048561  11/30/2016        6169      421.89     364.69     2602639.41   \n",
      "1048563    8/5/2010        6236      651.21     524.96     4060945.56   \n",
      "1048566   8/22/2016        8110      255.28     159.42     2070320.80   \n",
      "1048573  10/14/2018         660      437.20     263.33      288552.00   \n",
      "\n",
      "         Total Cost  Total Profit  \n",
      "0        1568167.00     245960.00  \n",
      "7        1423035.32     939593.48  \n",
      "10        157074.39      77376.06  \n",
      "16       2034784.46     671040.77  \n",
      "19        789653.76     446854.56  \n",
      "...             ...           ...  \n",
      "1048555    46024.92      16028.91  \n",
      "1048561  2249772.61     352866.80  \n",
      "1048563  3273650.56     787295.00  \n",
      "1048566  1292896.20     777424.60  \n",
      "1048573   173797.80     114754.20  \n",
      "\n",
      "[84912 rows x 14 columns]\n"
     ]
    }
   ],
   "source": [
    "print(store_au)"
   ]
  },
  {
   "cell_type": "code",
   "execution_count": 12,
   "metadata": {},
   "outputs": [
    {
     "name": "stdout",
     "output_type": "stream",
     "text": [
      "Order Priority\n",
      "H    21361\n",
      "M    21231\n",
      "L    21197\n",
      "C    21123\n",
      "Name: count, dtype: int64\n"
     ]
    }
   ],
   "source": [
    "# Đếm số lượng đơn hàng theo Order Priority\n",
    "order_priority_counts_au = store_au['Order Priority'].value_counts()\n",
    "\n",
    "# In ra kết quả\n",
    "print(order_priority_counts_au)"
   ]
  },
  {
   "cell_type": "code",
   "execution_count": null,
   "metadata": {},
   "outputs": [],
   "source": [
    "# Tạo boxplot để thấy phân phối lợi nhuận tại khu vực Ameica dựa trên loại sản phẩm\n",
    "plt.figure(figsize=(15, 6))\n",
    "sns.boxplot(x='Item Type', y='Total Profit', data=store_au)\n",
    "plt.title('Phân phối lợi nhuận tại khu vực Chau Dai Duong dựa trên loại sản phẩm')\n",
    "plt.show()"
   ]
  },
  {
   "cell_type": "markdown",
   "metadata": {},
   "source": [
    "## Statistics according to sales channels"
   ]
  },
  {
   "cell_type": "code",
   "execution_count": 14,
   "metadata": {},
   "outputs": [
    {
     "name": "stdout",
     "output_type": "stream",
     "text": [
      "Sales Channel\n",
      "Offline    524331\n",
      "Online     524244\n",
      "Name: count, dtype: int64\n"
     ]
    }
   ],
   "source": [
    "# Đếm số lượng dòng theo Sales Channel\n",
    "sales_channel_counts = store['Sales Channel'].value_counts()\n",
    "print(sales_channel_counts)"
   ]
  },
  {
   "cell_type": "code",
   "execution_count": 18,
   "metadata": {},
   "outputs": [
    {
     "name": "stdout",
     "output_type": "stream",
     "text": [
      "                               Region Sales Channel   Count\n",
      "0                                Asia       Offline   76564\n",
      "1                                Asia        Online   76547\n",
      "2               Australia and Oceania       Offline   42425\n",
      "3               Australia and Oceania        Online   42487\n",
      "4   Central America and the Caribbean       Offline   56907\n",
      "5   Central America and the Caribbean        Online   56604\n",
      "6                              Europe       Offline  135924\n",
      "7                              Europe        Online  136016\n",
      "8        Middle East and North Africa       Offline   65277\n",
      "9        Middle East and North Africa        Online   65031\n",
      "10                      North America       Offline   11161\n",
      "11                      North America        Online   11434\n",
      "12                 Sub-Saharan Africa       Offline  136073\n",
      "13                 Sub-Saharan Africa        Online  136125\n"
     ]
    }
   ],
   "source": [
    "sales_channel_counts_by_region = store.groupby(['Region', 'Sales Channel']).size().reset_index(name='Count')\n",
    "print(sales_channel_counts_by_region)"
   ]
  },
  {
   "cell_type": "code",
   "execution_count": null,
   "metadata": {},
   "outputs": [],
   "source": [
    "plt.figure(figsize=(20, 8))\n",
    "sns.barplot(x='Region', y='Count', hue='Sales Channel', data=sales_channel_counts_by_region)\n",
    "plt.title('Số lượng thống kê theo Sales Channel và Region')\n",
    "plt.show()"
   ]
  },
  {
   "cell_type": "markdown",
   "metadata": {},
   "source": [
    "## Mối quan hệ giữa Khách hàng (Customer) và Sản phẩm (Product)"
   ]
  },
  {
   "cell_type": "code",
   "execution_count": null,
   "metadata": {},
   "outputs": [],
   "source": [
    "# Đọc dữ liệu từ file Customers.csv và SuperStore.csv\n",
    "customers_df = pd.read_csv('dataset/Customers.csv')\n",
    "superstore_df = pd.read_csv('dataset/SuperStore.csv')\n",
    "\n",
    "# Kết hợp hai DataFrame theo giới tính và ngày sinh\n",
    "# merged_df = customers_df.merge(superstore_df, how='outer')\n",
    "customers_df['dummy'] = 1\n",
    "superstore_df['dummy'] = 1\n",
    "merged_df = pd.concat([customers_df, superstore_df], axis=1)\n",
    "# Tạo Scatter plot\n",
    "plt.figure(figsize=(18, 6))\n",
    "sns.scatterplot(x='Date of Birth', y='Item Type', hue='Gender', data=merged_df, alpha=0.7)\n",
    "plt.title('Mối quan hệ giữa Gender, DateOfBirth và ItemType')\n",
    "plt.show()"
   ]
  },
  {
   "cell_type": "markdown",
   "metadata": {},
   "source": [
    "# Search by Order ID"
   ]
  },
  {
   "cell_type": "code",
   "execution_count": 3,
   "metadata": {},
   "outputs": [
    {
     "name": "stdout",
     "output_type": "stream",
     "text": [
      "    Region Country Item Type Sales Channel Order Priority  Order Date  \\\n",
      "21  Europe  Kosovo    Cereal       Offline              H  12/17/2013   \n",
      "\n",
      "     Order ID   Ship Date  Units Sold  Unit Price  Unit Cost  Total Revenue  \\\n",
      "21  159566819  12/24/2013        8223       205.7     117.11      1691471.1   \n",
      "\n",
      "    Total Cost  Total Profit  \n",
      "21   962995.53     728475.57  \n"
     ]
    }
   ],
   "source": [
    "import pandas as pd\n",
    "\n",
    "# Đọc dữ liệu từ file SuperStore.csv\n",
    "superstore_df = pd.read_csv(\"dataset/SuperStore.csv\", encoding='utf-8')\n",
    "\n",
    "# Nhập Order ID bạn muốn tìm kiếm\n",
    "desired_order_id = 159566819  # Thay thế bằng Order ID bạn muốn tìm kiếm\n",
    "\n",
    "# Tìm kiếm đơn hàng theo Order ID\n",
    "result_order = superstore_df.loc[superstore_df['Order ID'] == desired_order_id]\n",
    "\n",
    "# Hiển thị kết quả\n",
    "print(result_order)\n"
   ]
  },
  {
   "cell_type": "code",
   "execution_count": 5,
   "metadata": {},
   "outputs": [
    {
     "name": "stdout",
     "output_type": "stream",
     "text": [
      "        Region     Country      Item Type Sales Channel Order Priority  \\\n",
      "1         Asia  Tajikistan  Personal Care        Online              L   \n",
      "9         Asia       Japan        Clothes        Online              M   \n",
      "17        Asia  Uzbekistan           Meat       Offline              M   \n",
      "23        Asia       India         Snacks       Offline              L   \n",
      "24        Asia      Taiwan        Clothes       Offline              L   \n",
      "...        ...         ...            ...           ...            ...   \n",
      "1048530   Asia    Thailand  Personal Care       Offline              M   \n",
      "1048537   Asia  Uzbekistan        Clothes        Online              L   \n",
      "1048538   Asia    Mongolia        Clothes        Online              L   \n",
      "1048541   Asia       China        Clothes        Online              L   \n",
      "1048569   Asia        Laos         Fruits       Offline              M   \n",
      "\n",
      "         Order Date   Order ID   Ship Date  Units Sold  Unit Price  Unit Cost  \\\n",
      "1         7/12/2018  144177377    8/1/2018        4145       81.73      56.67   \n",
      "9         3/25/2018  349185693    4/8/2018         661      109.28      35.84   \n",
      "17       12/11/2017  551557290  12/20/2017        6914      421.89     364.69   \n",
      "23         8/6/2019  822894704   9/25/2019        1684      152.58      97.44   \n",
      "24        5/22/2016  108818137    7/9/2016         560      109.28      35.84   \n",
      "...             ...        ...         ...         ...         ...        ...   \n",
      "1048530   7/23/2012  415279185   7/29/2012        9194       81.73      56.67   \n",
      "1048537   7/13/2012  360728204   7/13/2012        6347      109.28      35.84   \n",
      "1048538   5/25/2014  194567286   5/27/2014        5639      109.28      35.84   \n",
      "1048541   9/23/2011  515856873  10/26/2011        2367      109.28      35.84   \n",
      "1048569  11/13/2012  795800530  12/25/2012        3916        9.33       6.92   \n",
      "\n",
      "         Total Revenue  Total Cost  Total Profit  \n",
      "1            338770.85   234897.15     103873.70  \n",
      "9             72234.08    23690.24      48543.84  \n",
      "17          2916947.46  2521466.66     395480.80  \n",
      "23           256944.72   164088.96      92855.76  \n",
      "24            61196.80    20070.40      41126.40  \n",
      "...                ...         ...           ...  \n",
      "1048530      751425.62   521023.98     230401.64  \n",
      "1048537      693600.16   227476.48     466123.68  \n",
      "1048538      616229.92   202101.76     414128.16  \n",
      "1048541      258665.76    84833.28     173832.48  \n",
      "1048569       36536.28    27098.72       9437.56  \n",
      "\n",
      "[153111 rows x 14 columns]\n"
     ]
    }
   ],
   "source": [
    "import pandas as pd\n",
    "\n",
    "# Đọc dữ liệu từ file SuperStore.csv\n",
    "superstore_df = pd.read_csv(\"dataset/SuperStore.csv\", encoding='utf-8')\n",
    "\n",
    "# Nhập Order ID bạn muốn tìm kiếm\n",
    "desired_region = 'Asia'  # Thay thế bằng Order ID bạn muốn tìm kiếm\n",
    "\n",
    "# Tìm kiếm đơn hàng theo Order ID\n",
    "result_order = superstore_df.loc[superstore_df['Region'] == desired_region]\n",
    "\n",
    "# Hiển thị kết quả\n",
    "print(result_order)"
   ]
  },
  {
   "cell_type": "markdown",
   "metadata": {},
   "source": [
    "<!-- ### The number of views by gender -->"
   ]
  },
  {
   "cell_type": "code",
   "execution_count": 11,
   "metadata": {},
   "outputs": [],
   "source": [
    "# gender_count_df = group_count_and_sort(data, fields='gender', sort_fields='user_id', count_fieild= 'user_id')"
   ]
  },
  {
   "cell_type": "code",
   "execution_count": null,
   "metadata": {},
   "outputs": [],
   "source": [
    "# female = gender_category_df[gender_category_df['gender'] == 'Female']\n",
    "# male = gender_category_df[gender_category_df['gender'] == 'Male']\n",
    "\n",
    "# draw_bar(x = male['category'], y = male['count'], \\\n",
    "#          xlabel= 'category', ylabel = 'Number of views', figsize= (20,6),\\\n",
    "#         title= 'Male: most views categories', rotation = 30)\n",
    "# draw_bar(x = female['category'], y = female['count'], \\\n",
    "#          xlabel= 'category', ylabel = 'Number of views', figsize= (20,6),\\\n",
    "#         title= 'Female: most views categories', rotation = 30)"
   ]
  },
  {
   "cell_type": "markdown",
   "metadata": {},
   "source": [
    "### Most read categories by age"
   ]
  },
  {
   "cell_type": "code",
   "execution_count": 62,
   "metadata": {},
   "outputs": [],
   "source": [
    "# age_category_df = group_count_and_sort(data, fields=['age', 'category'], sort_fields= ['age', 'user_id'], count_fieild= 'user_id')\n",
    "\n",
    "# age_category_df['percentage'] = age_category_df.groupby('age')['count']\\\n",
    "#                                                 .apply(lambda x: 100*x/float(x.sum()))"
   ]
  },
  {
   "cell_type": "code",
   "execution_count": null,
   "metadata": {},
   "outputs": [],
   "source": [
    "# age_category_df.head()"
   ]
  },
  {
   "cell_type": "code",
   "execution_count": 64,
   "metadata": {},
   "outputs": [],
   "source": [
    "# top_categories = set(age_category_df.groupby('age').head(5)['category'])\n",
    "\n",
    "# ages = list(age_category_df[age_category_df['category'] == 'Game'].reset_index().reindex([0, 6, 5, 4, 3, 2, 1])['age'])"
   ]
  },
  {
   "cell_type": "code",
   "execution_count": null,
   "metadata": {},
   "outputs": [],
   "source": [
    "# ages, list(top_categories)"
   ]
  },
  {
   "cell_type": "code",
   "execution_count": null,
   "metadata": {},
   "outputs": [],
   "source": [
    "# categories = ['Giải trí', 'Đời sống', 'Pháp luật', 'Thể thao', 'Game' ,'Tin thế giới']\n",
    "# colors = sns.color_palette('pastel')\n",
    "\n",
    "# bars = []\n",
    "# width = 0.12\n",
    "# plt.figure(figsize = (20, 6))\n",
    "# ind = np.arange(len(ages)) \n",
    "# for i, cat in enumerate(categories):\n",
    "#     percentages = list(age_category_df[age_category_df['category'] == cat].reset_index().reindex([0, 6, 5, 4, 3, 2, 1])['percentage'])\n",
    "#     bars.append(plt.bar(ind + width*i, percentages, width, color = colors[i]))\n",
    "    \n",
    "# plt.xlabel('Age')\n",
    "# plt.ylabel('percentage (%)')\n",
    "# plt.title(\"The percentage of categories by age\")\n",
    "\n",
    "# plt.xticks(ind+width*2.5, ages)\n",
    "# plt.legend( bars, categories, ncol=3,loc=\"upper right\")\n",
    "# plt.savefig('images/percentage_category_by_age.pdf')\n",
    "# plt.show()"
   ]
  },
  {
   "cell_type": "markdown",
   "metadata": {},
   "source": [
    "### Most reading Hours by age"
   ]
  },
  {
   "cell_type": "code",
   "execution_count": 46,
   "metadata": {},
   "outputs": [],
   "source": [
    "# times = pd.to_datetime(data.event_time)\n",
    "# age_read_hour = group_count_and_sort(data, fields=['age',times.dt.hour], sort_fields= ['age', 'user_id'], count_fieild= 'user_id')"
   ]
  },
  {
   "cell_type": "code",
   "execution_count": 47,
   "metadata": {},
   "outputs": [],
   "source": [
    "# age_read_hour['percentage'] = age_read_hour.groupby('age')['count']\\\n",
    "#                                                 .apply(lambda x: 100*x/float(x.sum()))"
   ]
  },
  {
   "cell_type": "code",
   "execution_count": null,
   "metadata": {},
   "outputs": [],
   "source": [
    "# age_read_hour.head()"
   ]
  },
  {
   "cell_type": "code",
   "execution_count": 53,
   "metadata": {},
   "outputs": [],
   "source": [
    "# top_hours = list(set(age_read_hour.groupby('age').head(3)['event_time']))"
   ]
  },
  {
   "cell_type": "code",
   "execution_count": null,
   "metadata": {},
   "outputs": [],
   "source": [
    "# colors = sns.color_palette(\"husl\", 9)\n",
    "# bars = []\n",
    "# width = 0.12\n",
    "# plt.figure(figsize = (20, 6))\n",
    "# ind = np.arange(len(top_hours)) \n",
    "# for i, hour in enumerate(top_hours):\n",
    "#     percentages = list(age_read_hour[age_read_hour['event_time'] == hour].reset_index().reindex([0, 6, 5, 4, 3, 2, 1])['percentage'])\n",
    "#     bars.append(plt.bar(ind + width*i, percentages, width, color = colors[i]))\n",
    "    \n",
    "# plt.xlabel('Age')\n",
    "# plt.ylabel('percentage (%)')\n",
    "# plt.title(\"The percentage of reading hours by age\")\n",
    "\n",
    "# plt.xticks(ind+width*2.5, ages)\n",
    "# plt.legend( bars, top_hours, ncol=7,loc=\"upper right\")\n",
    "# # plt.savefig('images/percentage_category_by_age.pdf')\n",
    "# plt.show()"
   ]
  },
  {
   "cell_type": "code",
   "execution_count": null,
   "metadata": {},
   "outputs": [],
   "source": [
    "# data.groupby([times.dt.dayofweek]).count()['user_id'].reset_index()"
   ]
  },
  {
   "cell_type": "markdown",
   "metadata": {},
   "source": [
    "## Top key words"
   ]
  },
  {
   "cell_type": "markdown",
   "metadata": {},
   "source": [
    "### Top weekly key words"
   ]
  },
  {
   "cell_type": "code",
   "execution_count": null,
   "metadata": {},
   "outputs": [],
   "source": [
    "# times = pd.to_datetime(data.published_time)\n",
    "# articles.groupby([times.dt.date]).count()"
   ]
  },
  {
   "cell_type": "code",
   "execution_count": 16,
   "metadata": {},
   "outputs": [],
   "source": [
    "# stopwords = open(\"dataset/stopwords.txt\", \"r\").read()\n",
    "# stopwords = set(stopwords.split('\\n'))"
   ]
  },
  {
   "cell_type": "code",
   "execution_count": 17,
   "metadata": {},
   "outputs": [],
   "source": [
    "# titles = articles['title'].str.lower().apply(ViTokenizer.tokenize)\n",
    "# title = ' '.join(titles)"
   ]
  },
  {
   "cell_type": "code",
   "execution_count": null,
   "metadata": {},
   "outputs": [],
   "source": [
    "# wordcloud = WordCloud(width = 800, height = 800,\n",
    "#                 background_color ='white',\n",
    "#                 stopwords = stopwords,\n",
    "#                 min_font_size = 10).generate(title)\n",
    "\n",
    "# # plot the WordCloud image                      \n",
    "# plt.figure(figsize = (8, 8), facecolor = None)\n",
    "# plt.imshow(wordcloud)\n",
    "# plt.axis(\"off\")\n",
    "# plt.tight_layout(pad = 0)\n",
    "# plt.title(\"Keywords xuat hien nhieu\")\n",
    "\n",
    "# plt.savefig('images/hot_topic.pdf')\n",
    "# plt.show()"
   ]
  },
  {
   "cell_type": "markdown",
   "metadata": {},
   "source": [
    "### Daily: key words trending"
   ]
  },
  {
   "cell_type": "code",
   "execution_count": 19,
   "metadata": {},
   "outputs": [],
   "source": [
    "# times = pd.to_datetime(articles.published_time)\n",
    "# daily_article_titles = articles.groupby(times.dt.date).agg({'title': ' '.join})['title']\\\n",
    "#                .str.lower()\\\n",
    "#                .apply(ViTokenizer.tokenize)"
   ]
  },
  {
   "cell_type": "code",
   "execution_count": 26,
   "metadata": {},
   "outputs": [],
   "source": [
    "# def l(k, n, x):  # noqa: E741, E743\n",
    "#     # dunning's likelihood ratio with notation from\n",
    "#     # http://nlp.stanford.edu/fsnlp/promo/colloc.pdf p162\n",
    "#     return log(max(x, 1e-10)) * k + log(max(1 - x, 1e-10)) * (n - k)\n",
    "\n",
    "\n",
    "# def score(count_bigram, count1, count2, n_words):\n",
    "#     \"\"\"Collocation score\"\"\"\n",
    "#     if n_words <= count1 or n_words <= count2:\n",
    "#         # only one words appears in the whole document\n",
    "#         return 0\n",
    "#     N = n_words\n",
    "#     c12 = count_bigram\n",
    "#     c1 = count1\n",
    "#     c2 = count2\n",
    "#     p = c2 / N\n",
    "#     p1 = c12 / c1\n",
    "#     p2 = (c2 - c12) / (N - c1)\n",
    "#     score = (l(c12, c1, p) + l(c2 - c12, N - c1, p)\n",
    "#              - l(c12, c1, p1) - l(c2 - c12, N - c1, p2))\n",
    "#     return -2 * score\n",
    "\n",
    "\n",
    "# def pairwise(iterable):\n",
    "#     # from itertool recipies\n",
    "#     # is -> (s0,s1), (s1,s2), (s2, s3), ...\n",
    "#     a, b = tee(iterable)\n",
    "#     next(b, None)\n",
    "#     return zip(a, b)\n",
    "\n",
    "\n",
    "# def unigrams_and_bigrams(words, stopwords, normalize_plurals=True, collocation_threshold=30):\n",
    "#     # We must create the bigrams before removing the stopword tokens from the words\n",
    "#     bigrams = list(p for p in pairwise(words) if not any(w.lower() in stopwords for w in p))\n",
    "#     unigrams = list(w for w in words if w.lower() not in stopwords)\n",
    "#     n_words = len(unigrams)\n",
    "#     counts_unigrams, standard_form = process_tokens(unigrams)\n",
    "#     counts_bigrams, standard_form_bigrams = process_tokens(\n",
    "#         [\" \".join(bigram) for bigram in bigrams])\n",
    "    \n",
    "#     # create a copy of counts_unigram so the score computation is not changed\n",
    "#     orig_counts = counts_unigrams.copy()\n",
    "\n",
    "#     # Include bigrams that are also collocations\n",
    "#     for bigram_string, count in counts_bigrams.items():\n",
    "#         bigram = tuple(bigram_string.split(\" \"))\n",
    "#         word1 = standard_form[bigram[0].lower()]\n",
    "#         word2 = standard_form[bigram[1].lower()]\n",
    "\n",
    "#         collocation_score = score(count, orig_counts[word1], orig_counts[word2], n_words)\n",
    "#         if collocation_score > collocation_threshold:\n",
    "#             # bigram is a collocation\n",
    "#             # discount words in unigrams dict.  Because one word might\n",
    "#             # appear in multiple collocations at the same time\n",
    "#             # (leading to negative counts)\n",
    "#             counts_unigrams[word1] -= counts_bigrams[bigram_string]\n",
    "#             counts_unigrams[word2] -= counts_bigrams[bigram_string]\n",
    "#             counts_unigrams[bigram_string] = counts_bigrams[bigram_string]\n",
    "#     for word, count in list(counts_unigrams.items()):\n",
    "#         if count <= 0:\n",
    "#             del counts_unigrams[word]\n",
    "#     return counts_unigrams\n",
    "\n",
    "\n",
    "# def process_tokens(words):\n",
    "#     # words can be either a list of unigrams or bigrams\n",
    "#     # d is a dict of dicts.\n",
    "#     # Keys of d are word.lower(). Values are dicts\n",
    "#     # counting frequency of each capitalization\n",
    "#     d = defaultdict(dict)\n",
    "#     for word in words:\n",
    "#         word_lower = word.lower()\n",
    "#         # get dict of cases for word_lower\n",
    "#         case_dict = d[word_lower]\n",
    "#         # increase this case\n",
    "#         case_dict[word] = case_dict.get(word, 0) + 1\n",
    "#     fused_cases = {}\n",
    "#     standard_cases = {}\n",
    "#     item1 = itemgetter(1)\n",
    "#     for word_lower, case_dict in d.items():\n",
    "#         # Get the most popular case.\n",
    "#         first = max(case_dict.items(), key=item1)[0]\n",
    "#         fused_cases[first] = sum(case_dict.values())\n",
    "#         standard_cases[word_lower] = first\n",
    "        \n",
    "#     return fused_cases, standard_cases\n"
   ]
  },
  {
   "cell_type": "code",
   "execution_count": 27,
   "metadata": {},
   "outputs": [],
   "source": [
    "# def process_text(text):\n",
    "#     words  = re.findall(r\"\\w[\\w']*\", text)\n",
    "#     return [word.lower() for word in words if not word.isnumeric()]\n",
    "\n",
    "# def word_count(words, stopwords, n):\n",
    "#     word_counts = unigrams_and_bigrams(words, stopwords, False, 30)\n",
    "#     return dict(sorted(word_counts.items(), key=lambda item: item[1],  reverse=True)[:n])\n",
    "\n",
    "# def count_term_frequency(words):\n",
    "#     term_frequency = {}\n",
    "#     for word in words:\n",
    "#         if word in term_frequency:\n",
    "#             term_frequency[word] +=1 \n",
    "#         else:\n",
    "#             term_frequency[word] = 1\n",
    "#     return term_frequency"
   ]
  },
  {
   "cell_type": "code",
   "execution_count": 30,
   "metadata": {},
   "outputs": [],
   "source": [
    "# label = []\n",
    "# x = []\n",
    "# y = []\n",
    "# n = 7\n",
    "# for i in range(len(daily_article_titles)):  \n",
    "#     words = process_text(daily_article_titles[i])\n",
    "#     res = word_count(words, stopwords, n)\n",
    "#     x.extend([str(daily_article_titles.index[i])]*n)\n",
    "#     y.extend(res.values())\n",
    "#     label.extend(res.keys())"
   ]
  },
  {
   "cell_type": "code",
   "execution_count": null,
   "metadata": {},
   "outputs": [],
   "source": [
    "# plt.figure(figsize = (15,8))\n",
    "# plt.scatter(x, y, c =\"maroon\")\n",
    "# plt.rcParams['font.size'] = '16'\n",
    "# # To show the plot\n",
    "# for i, l in enumerate(label):\n",
    "#     plt.annotate(l, (x[i] , y[i]))\n",
    "# plt.xticks(rotation = 50)\n",
    "# plt.yscale('log')\n",
    "\n",
    "# plt.xlabel('Date')\n",
    "# plt.ylabel('Frequency')\n",
    "# plt.title('')\n",
    "# plt.savefig('images/daily_hot_topic.pdf')\n",
    "# plt.show()"
   ]
  },
  {
   "cell_type": "markdown",
   "metadata": {},
   "source": [
    "# News recomendation"
   ]
  },
  {
   "cell_type": "code",
   "execution_count": null,
   "metadata": {},
   "outputs": [],
   "source": []
  },
  {
   "cell_type": "code",
   "execution_count": null,
   "metadata": {},
   "outputs": [],
   "source": [
    "# users[users['user_id'] == 15099768449101904560]"
   ]
  },
  {
   "cell_type": "code",
   "execution_count": null,
   "metadata": {},
   "outputs": [],
   "source": [
    "# users[users['user_id'] == 10905364777234019509]"
   ]
  },
  {
   "cell_type": "code",
   "execution_count": null,
   "metadata": {},
   "outputs": [],
   "source": [
    "# data[data['user_id'] == 15099768449101904560].sort_values('published_time', ascending=False).head()"
   ]
  },
  {
   "cell_type": "code",
   "execution_count": null,
   "metadata": {},
   "outputs": [],
   "source": [
    "# data[data['user_id'] == 10905364777234019509].sort_values('published_time', ascending=False).head()"
   ]
  },
  {
   "cell_type": "code",
   "execution_count": 22,
   "metadata": {},
   "outputs": [],
   "source": [
    "# def vectorized_article(params, all_articles):\n",
    "#     readed = set(params)\n",
    "#     return [True if article in readed else False for article in all_articles]\n",
    "\n",
    "# def cal_cosine_similarity(a, b):\n",
    "#     return 1 - spatial.distance.cosine(a, b)\n",
    "\n",
    "# def get_article_ids_by_gender_and_age(gender , age):\n",
    "#     return data[(data['gender'] == gender) & (data['age'] == age)]\\\n",
    "#       .groupby('article_id')\\\n",
    "#       .groups.keys()\n",
    "\n",
    "# def cal_similarity_vec(user_id):\n",
    "\n",
    "#     user = data[data['user_id'] == user_id].iloc[0]\n",
    "#     article_ids = get_article_ids_by_gender_and_age(user['gender'], user['age'])\n",
    "\n",
    "#     vectorzied_user = data[(data['gender'] == user['gender']) & (data['age'] == user['age'])]\\\n",
    "#                       .groupby('user_id')['article_id']\\\n",
    "#                       .apply(lambda x : vectorized_article(x, article_ids))\n",
    "\n",
    "#     user_vec = vectorzied_user[vectorzied_user.index == user_id].iloc[0]\n",
    "\n",
    "#     similarity_vecs = vectorzied_user[vectorzied_user.index != user_id]\\\n",
    "#                       .apply(lambda x : cal_cosine_similarity(user_vec, x))\\\n",
    "#                       .sort_values(ascending=False)\n",
    "#     return similarity_vecs\n",
    "\n",
    "# def generate_recommendations(user_id, recomend_date, day_window=2, top_similar_users=5):\n",
    "\n",
    "#     date_obj = datetime.strptime(recomend_date, '%Y-%m-%d') - timedelta(days = day_window)\n",
    "#     similarity_vecs = cal_similarity_vec(user_id)\n",
    "\n",
    "#     recomends = data[(data['user_id'].isin(similarity_vecs[0:top_similar_users].index)) \\\n",
    "#                    &  (data['published_time'] >  date_obj.strftime('%Y-%m-%d'))]\n",
    "\n",
    "#     readed_articles = set(data[(data['user_id'] == user_id)]['article_id'])\n",
    "#     return recomends[~recomends['article_id'].isin(readed_articles)]\\\n",
    "#             [['article_id', 'published_time', 'title', 'domain', 'category']]\\\n",
    "#             .sort_values('published_time', ascending=False)\n"
   ]
  },
  {
   "cell_type": "code",
   "execution_count": null,
   "metadata": {},
   "outputs": [],
   "source": [
    "# generate_recommendations(15099768449101904560, '2022-04-13')"
   ]
  },
  {
   "cell_type": "code",
   "execution_count": null,
   "metadata": {},
   "outputs": [],
   "source": [
    "# generate_recommendations(10905364777234019509, '2022-04-13')"
   ]
  }
 ],
 "metadata": {
  "kernelspec": {
   "display_name": "Python 3",
   "language": "python",
   "name": "python3"
  },
  "language_info": {
   "codemirror_mode": {
    "name": "ipython",
    "version": 3
   },
   "file_extension": ".py",
   "mimetype": "text/x-python",
   "name": "python",
   "nbconvert_exporter": "python",
   "pygments_lexer": "ipython3",
   "version": "3.12.1"
  }
 },
 "nbformat": 4,
 "nbformat_minor": 4
}
